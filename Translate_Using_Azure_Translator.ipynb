{
  "nbformat": 4,
  "nbformat_minor": 0,
  "metadata": {
    "colab": {
      "provenance": [],
      "authorship_tag": "ABX9TyNpI2/wEW0uOAykKM+I+Ndy",
      "include_colab_link": true
    },
    "kernelspec": {
      "name": "python3",
      "display_name": "Python 3"
    },
    "language_info": {
      "name": "python"
    }
  },
  "cells": [
    {
      "cell_type": "markdown",
      "metadata": {
        "id": "view-in-github",
        "colab_type": "text"
      },
      "source": [
        "<a href=\"https://colab.research.google.com/github/PauloCesarRSilva/using-azure-resources-to-translate/blob/main/Translate_Using_Azure_Translator.ipynb\" target=\"_parent\"><img src=\"https://colab.research.google.com/assets/colab-badge.svg\" alt=\"Open In Colab\"/></a>"
      ]
    },
    {
      "cell_type": "code",
      "execution_count": 1,
      "metadata": {
        "colab": {
          "base_uri": "https://localhost:8080/"
        },
        "id": "MwiffkPiAupX",
        "outputId": "40e2a9e2-b1db-4d18-b38d-b13903f8e56f"
      },
      "outputs": [
        {
          "output_type": "stream",
          "name": "stdout",
          "text": [
            "Requirement already satisfied: requests in /usr/local/lib/python3.10/dist-packages (2.32.3)\n",
            "Collecting python-docx\n",
            "  Downloading python_docx-1.1.2-py3-none-any.whl.metadata (2.0 kB)\n",
            "Requirement already satisfied: charset-normalizer<4,>=2 in /usr/local/lib/python3.10/dist-packages (from requests) (3.4.0)\n",
            "Requirement already satisfied: idna<4,>=2.5 in /usr/local/lib/python3.10/dist-packages (from requests) (3.10)\n",
            "Requirement already satisfied: urllib3<3,>=1.21.1 in /usr/local/lib/python3.10/dist-packages (from requests) (2.2.3)\n",
            "Requirement already satisfied: certifi>=2017.4.17 in /usr/local/lib/python3.10/dist-packages (from requests) (2024.8.30)\n",
            "Requirement already satisfied: lxml>=3.1.0 in /usr/local/lib/python3.10/dist-packages (from python-docx) (5.3.0)\n",
            "Requirement already satisfied: typing-extensions>=4.9.0 in /usr/local/lib/python3.10/dist-packages (from python-docx) (4.12.2)\n",
            "Downloading python_docx-1.1.2-py3-none-any.whl (244 kB)\n",
            "\u001b[2K   \u001b[90m━━━━━━━━━━━━━━━━━━━━━━━━━━━━━━━━━━━━━━━━\u001b[0m \u001b[32m244.3/244.3 kB\u001b[0m \u001b[31m4.5 MB/s\u001b[0m eta \u001b[36m0:00:00\u001b[0m\n",
            "\u001b[?25hInstalling collected packages: python-docx\n",
            "Successfully installed python-docx-1.1.2\n"
          ]
        }
      ],
      "source": [
        "!pip install requests python-docx"
      ]
    },
    {
      "cell_type": "code",
      "source": [
        "import requests, uuid\n",
        "from docx import Document"
      ],
      "metadata": {
        "id": "GnyRc0hHDGTY"
      },
      "execution_count": 2,
      "outputs": []
    },
    {
      "cell_type": "code",
      "source": [
        "def general_translator(text_list:list, language_from=\"auto\", language_to=[\"en\"]):\n",
        "  '''\n",
        "    A general translator\n",
        "\n",
        "    Parameters\n",
        "    ----------\n",
        "    text : list\n",
        "      A list containing text to be translated\n",
        "    language_from : str, optional\n",
        "        The text source language. The default is \"auto\".\n",
        "    language_to : TYPE, optional\n",
        "        The language target. It can be a list of languages.\n",
        "        The default is [\"en\"].\n",
        "\n",
        "    Returns\n",
        "    -------\n",
        "    response: list\n",
        "      A json object\n",
        "  '''\n",
        "  endpoint = \"https://api.cognitive.microsofttranslator.com/\"\n",
        "  key = \"5izOS1eJoQNTCEbcBIgxWX1rHPUMsXa7U8Qfh0Q4XbbS6dTmtYPbJQQJ99AKACYeBjFXJ3w3AAAbACOGv8Ve\"\n",
        "  location = \"eastus\"\n",
        "\n",
        "  path = \"/translate\"\n",
        "\n",
        "  constructed_url = endpoint + path\n",
        "  if language_from == \"auto\":\n",
        "    language_from = \"\"\n",
        "\n",
        "  params = { \"api-version\":\"3.0\",\n",
        "             \"from\": language_from,\n",
        "             \"to\": language_to }\n",
        "\n",
        "  headers = {\n",
        "        \"Ocp-Apim-Subscription-Key\": key,\n",
        "        \"Ocp-Apim-Subscription-Region\": location,\n",
        "        \"Content-type\": \"application/json\",\n",
        "        \"X-ClientTraceId\": str(uuid.uuid4()),\n",
        "    }\n",
        "\n",
        "  body = [{\"text\": t} for t in text_list]\n",
        "\n",
        "  request = requests.post(\n",
        "      constructed_url, params=params, headers=headers, json=body, timeout=1000\n",
        "  )\n",
        "  try:\n",
        "    response = request.json()\n",
        "\n",
        "    if request.status_code != 200:\n",
        "      raise Exception(f\"Error when retrieving data: {response}\")\n",
        "\n",
        "    return response\n",
        "  except:\n",
        "    raise Exception(\n",
        "      f\"Error when retrieving data: status code: {request.status_code} reason: {request.reason}\"\n",
        "    )"
      ],
      "metadata": {
        "id": "ayx-9Qs1DNdx"
      },
      "execution_count": 13,
      "outputs": []
    },
    {
      "cell_type": "code",
      "source": [
        "def document_translator(path:str, lang_target='en'):\n",
        "  \"\"\"\n",
        "  Translate document\n",
        "\n",
        "  Parameters\n",
        "  ----------\n",
        "  path:str\n",
        "    The path of the document\n",
        "\n",
        "  Returns\n",
        "  -------\n",
        "\n",
        "  \"\"\"\n",
        "  document = Document(path)\n",
        "  paragraphs_list = [ph.text for ph in document.paragraphs]\n",
        "\n",
        "  text_translated = [item['translations'][0]['text'] for item in general_translator(paragraphs_list, language_to=[lang_target])]\n",
        "\n",
        "  document_translated = Document()\n",
        "  for line in text_translated:\n",
        "    print(line)\n",
        "    document_translated.add_paragraph(line)\n",
        "\n",
        "  path_translated = path.replace('.docx', f'_{lang_target}.docx')\n",
        "  document_translated.save(path_translated)\n",
        "  return path_translated\n",
        ""
      ],
      "metadata": {
        "id": "xMetBT_VHd8H"
      },
      "execution_count": 14,
      "outputs": []
    },
    {
      "cell_type": "code",
      "source": [
        "document_translator('new_fire_sent_by_ravens.docx', 'pt-br')"
      ],
      "metadata": {
        "colab": {
          "base_uri": "https://localhost:8080/",
          "height": 671
        },
        "id": "u7ekwrfiePmE",
        "outputId": "2884f248-26fe-40e8-8f84-2ffea863a049"
      },
      "execution_count": 15,
      "outputs": [
        {
          "output_type": "stream",
          "name": "stdout",
          "text": [
            "Novo Fogo\n",
            "Enviada por Ravens\n",
            "\n",
            "Nossas famílias são uma máquina estranha\n",
            "Há muitas partes para colar novamente\n",
            "Antes de completar 18 anos\n",
            "Você treme porque você não está pronto\n",
            "Mas o medo volta para mais\n",
            "Seja uma luz em sua escuridão\n",
            "Seja um brilho na praia\n",
            "Ele vai dar a volta por cima [2x]\n",
            "\n",
            "Novo fogo aceso em você\n",
            "Um novo fogo circunda esta sala\n",
            "Que você nunca tenha medo de sua fé em\n",
            "Novo fogo aceso em você\n",
            "Um novo fogo circunda esta sala\n",
            "Que você nunca tenha medo de seu pai\n",
            "\n",
            "As famílias são uma coisa preciosa\n",
            "Há muitos corações para quebrar de uma só vez\n",
            "Antes de completar 23 anos\n",
            "Você grita porque não foi honesto\n",
            "E você saiu porque você estava errado\n",
            "Eu oro por graça em suas decisões\n",
            "E espero que você não fique fora por muito tempo\n",
            "\n",
            "Novo fogo aceso em você\n",
            "Um novo fogo circunda esta sala\n",
            "Que você nunca tenha medo de sua fé em\n",
            "Novo fogo aceso em você\n",
            "Um novo fogo circunda esta sala\n",
            "Que você nunca tenha medo de seu pai...\n",
            "\n",
            "Tire essa faca do seu pescoço...\n"
          ]
        },
        {
          "output_type": "execute_result",
          "data": {
            "text/plain": [
              "'new_fire_sent_by_ravens_pt-br.docx'"
            ],
            "application/vnd.google.colaboratory.intrinsic+json": {
              "type": "string"
            }
          },
          "metadata": {},
          "execution_count": 15
        }
      ]
    }
  ]
}